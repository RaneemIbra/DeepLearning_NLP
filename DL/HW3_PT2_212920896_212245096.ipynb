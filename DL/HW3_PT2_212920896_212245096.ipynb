{
  "cells": [
    {
      "cell_type": "markdown",
      "metadata": {},
      "source": [
        "# Deep Learning Assignment 3 - Part 2\n",
        "### Latent Space Visualization\n",
        "\n",
        "Student 1: name + id\n",
        "\n",
        "Student 2: name + id\n",
        "\n",
        "# Imports"
      ]
    },
    {
      "cell_type": "code",
      "execution_count": 13,
      "metadata": {
        "id": "voaWjz0Z0VoP"
      },
      "outputs": [],
      "source": [
        "import torch\n",
        "import numpy as np\n",
        "import torch.nn as nn\n",
        "from torch.optim import Adam\n",
        "import matplotlib.pyplot as plt\n",
        "from torchvision.datasets import MNIST\n",
        "from torch.utils.data import DataLoader\n",
        "import torchvision.transforms as transforms\n",
        "from mpl_toolkits.axes_grid1 import ImageGrid\n",
        "from torchvision.utils import save_image, make_grid"
      ]
    },
    {
      "cell_type": "markdown",
      "metadata": {},
      "source": [
        "# Preprocessing"
      ]
    },
    {
      "cell_type": "code",
      "execution_count": 14,
      "metadata": {
        "id": "svlrOe-jl_Ue"
      },
      "outputs": [],
      "source": [
        "# create a transofrm to apply to each datapoint\n",
        "transform = transforms.Compose([transforms.ToTensor()])\n",
        "\n",
        "# download the MNIST datasets\n",
        "path = '~/datasets'\n",
        "train_dataset = MNIST(path, transform=transform, download=True)\n",
        "test_dataset  = MNIST(path, transform=transform, download=True)\n",
        "\n",
        "# create train and test dataloaders\n",
        "batch_size = 100\n",
        "train_loader = DataLoader(dataset=train_dataset, batch_size=batch_size, shuffle=True)\n",
        "test_loader = DataLoader(dataset=test_dataset, batch_size=batch_size, shuffle=False)\n",
        "\n",
        "device = torch.device(\"cuda\" if torch.cuda.is_available() else \"cpu\")"
      ]
    },
    {
      "cell_type": "markdown",
      "metadata": {},
      "source": [
        "# Encoder Class"
      ]
    },
    {
      "cell_type": "code",
      "execution_count": 15,
      "metadata": {
        "id": "Ezw2ckDTmSJw"
      },
      "outputs": [],
      "source": [
        "class Encoder(nn.Module):\n",
        "\n",
        "    def __init__(self, input_dim, hidden_dim, latent_dim):\n",
        "        super(Encoder, self).__init__()\n",
        "        # write your code here\n",
        "        \n",
        "    def forward(self, x):\n",
        "        # write your code here\n",
        "        "
      ]
    },
    {
      "cell_type": "markdown",
      "metadata": {},
      "source": [
        "# Decoder Class"
      ]
    },
    {
      "cell_type": "code",
      "execution_count": 16,
      "metadata": {
        "id": "_m2Nqv1enW5J"
      },
      "outputs": [],
      "source": [
        "class Decoder(nn.Module):\n",
        "\n",
        "    def __init__(self, output_dim, hidden_dim, latent_dim):\n",
        "        super(Decoder, self).__init__()\n",
        "        # write your code here\n",
        "\n",
        "    def forward(self, x):\n",
        "        # write your code here"
      ]
    },
    {
      "cell_type": "markdown",
      "metadata": {},
      "source": [
        "# Variational Auto Encoder Class"
      ]
    },
    {
      "cell_type": "code",
      "execution_count": 17,
      "metadata": {
        "id": "h672csE-nYNH"
      },
      "outputs": [],
      "source": [
        "class VAE(nn.Module):\n",
        "\n",
        "    def __init__(self, input_dim=784, hidden_dim=400, latent_dim=200, device=device):\n",
        "        super(VAE, self).__init__()\n",
        "        # write your code here\n",
        "\n",
        "    def forward(self, x):\n",
        "        # write your code here"
      ]
    },
    {
      "cell_type": "code",
      "execution_count": 18,
      "metadata": {
        "id": "wOuxwnnVnbBJ"
      },
      "outputs": [],
      "source": [
        "model = VAE().to(device)\n",
        "optimizer = Adam(model.parameters(), lr)"
      ]
    },
    {
      "cell_type": "markdown",
      "metadata": {},
      "source": [
        "# Loss Function Class\n"
      ]
    },
    {
      "cell_type": "code",
      "execution_count": 19,
      "metadata": {
        "id": "RlwQdnotney0"
      },
      "outputs": [],
      "source": [
        "def loss_function(x, x_hat, mean, log_var):\n",
        "    # write your code heres\n",
        "\n",
        "    return loss_reprod + KLD"
      ]
    },
    {
      "cell_type": "markdown",
      "metadata": {},
      "source": [
        "# Training Loop"
      ]
    },
    {
      "cell_type": "code",
      "execution_count": 20,
      "metadata": {
        "id": "bwWtxYrUF826"
      },
      "outputs": [],
      "source": [
        "def train(model, optimizer, epochs, device, x_dim=784): # Modify, add the evaluation step after each 10 epochs\n",
        "    model.train()\n",
        "    for epoch in range(epochs):\n",
        "        overall_loss = 0\n",
        "        for batch_idx, (x, _) in enumerate(train_loader):\n",
        "            x = x.view(batch_size, x_dim).to(device)\n",
        "\n",
        "            optimizer.zero_grad()\n",
        "\n",
        "            x_hat, mean, log_var = model(x)\n",
        "            loss = loss_function(x, x_hat, mean, log_var)\n",
        "\n",
        "            overall_loss += loss.item()\n",
        "\n",
        "            loss.backward()\n",
        "            optimizer.step()\n",
        "\n",
        "        print(\"\\tEpoch\", epoch + 1, \"\\tAverage Loss: \", overall_loss/(batch_idx*batch_size))\n",
        "    return overall_loss"
      ]
    },
    {
      "cell_type": "code",
      "execution_count": null,
      "metadata": {
        "colab": {
          "base_uri": "https://localhost:8080/"
        },
        "id": "VP-7CIF3GYUA",
        "outputId": "cd106973-4c68-4546-9f61-26139db59bf4"
      },
      "outputs": [],
      "source": [
        "train(model, optimizer, epochs=50, device=device)"
      ]
    },
    {
      "cell_type": "markdown",
      "metadata": {},
      "source": [
        "# Generate and plot digit"
      ]
    },
    {
      "cell_type": "code",
      "execution_count": 22,
      "metadata": {
        "id": "Gk18nyo0KVtW"
      },
      "outputs": [],
      "source": [
        "def generate_digit(mean, var):\n",
        "    # write your code here\n",
        "\n",
        "    def plot_digit(): # plot the generated digit\n",
        "        # write your code here"
      ]
    },
    {
      "cell_type": "code",
      "execution_count": null,
      "metadata": {
        "colab": {
          "base_uri": "https://localhost:8080/",
          "height": 876
        },
        "id": "J0FQ7fcpbPm0",
        "outputId": "c65c5aec-59ec-4ef7-d435-074cf43421d0"
      },
      "outputs": [],
      "source": [
        "generate_digit(0.0, 1.0), generate_digit(1.0, 0.0)"
      ]
    },
    {
      "cell_type": "markdown",
      "metadata": {},
      "source": [
        "# Latent Space Grid Visualization"
      ]
    },
    {
      "cell_type": "code",
      "execution_count": 24,
      "metadata": {
        "id": "SgFh4FOvKVmb"
      },
      "outputs": [],
      "source": [
        "def plot_latent_space(model, scale, digit_size=28, figsize=15):\n",
        "    # write your code here"
      ]
    },
    {
      "cell_type": "code",
      "execution_count": null,
      "metadata": {
        "colab": {
          "base_uri": "https://localhost:8080/",
          "height": 1000
        },
        "id": "T_TFzS92gvig",
        "outputId": "ef1a0dcc-38e4-4f7e-dc37-b782f1fdc870"
      },
      "outputs": [],
      "source": [
        "plot_latent_space(model, scale=1.0)"
      ]
    },
    {
      "cell_type": "code",
      "execution_count": null,
      "metadata": {
        "colab": {
          "base_uri": "https://localhost:8080/",
          "height": 1000
        },
        "id": "iaZxxvMQgxaO",
        "outputId": "90066841-3661-48cf-fd71-e6d39b47cd98"
      },
      "outputs": [],
      "source": [
        "plot_latent_space(model, scale=5.0)"
      ]
    },
    {
      "cell_type": "markdown",
      "metadata": {},
      "source": [
        "# Linear Interpolation"
      ]
    },
    {
      "cell_type": "code",
      "execution_count": null,
      "metadata": {},
      "outputs": [],
      "source": [
        "# write your code here\n"
      ]
    }
  ],
  "metadata": {
    "accelerator": "GPU",
    "colab": {
      "provenance": []
    },
    "gpuClass": "standard",
    "kernelspec": {
      "display_name": "Python 3",
      "name": "python3"
    },
    "language_info": {
      "name": "python"
    }
  },
  "nbformat": 4,
  "nbformat_minor": 0
}
